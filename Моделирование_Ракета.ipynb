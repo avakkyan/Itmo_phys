{
  "cells": [
    {
      "cell_type": "markdown",
      "metadata": {
        "id": "view-in-github",
        "colab_type": "text"
      },
      "source": [
        "<a href=\"https://colab.research.google.com/github/avakkyan/Itmo_phys/blob/main/%D0%9C%D0%BE%D0%B4%D0%B5%D0%BB%D0%B8%D1%80%D0%BE%D0%B2%D0%B0%D0%BD%D0%B8%D0%B5_%D0%A0%D0%B0%D0%BA%D0%B5%D1%82%D0%B0.ipynb\" target=\"_parent\"><img src=\"https://colab.research.google.com/assets/colab-badge.svg\" alt=\"Open In Colab\"/></a>"
      ]
    },
    {
      "cell_type": "markdown",
      "metadata": {
        "id": "-A1HeGiihRB1"
      },
      "source": [
        "## Моделирование №1  Карина Авакян"
      ]
    },
    {
      "cell_type": "markdown",
      "metadata": {
        "id": "HI-6Qfb7hRB2"
      },
      "source": [
        "### Входные параметры"
      ]
    },
    {
      "cell_type": "code",
      "execution_count": null,
      "metadata": {
        "id": "-QhoWBzghRB3"
      },
      "outputs": [],
      "source": [
        "import numpy as np\n",
        "G = 6.67*10**(-11) #гравитационная постоянная  Н * м^2 / c^2\n",
        "M_mars = 6.42 *10**(23) #масса Марса  кг\n",
        "R = 3389500 #радиус Марса  м\n",
        "H = 48000 #высота орбиты\n",
        "g = 3.7 #ускорение свободного падения на Марса м/с^2\n",
        "amax = 29.43 #максимальная перегрузка\n",
        "Soc = 0 #Начальное смещение станции"
      ]
    },
    {
      "cell_type": "markdown",
      "metadata": {
        "id": "-jGDXMpbhRB4"
      },
      "source": [
        "$$ V_{первая космическая} = \\sqrt{G * M_{mars} / (R + H)} $$"
      ]
    },
    {
      "cell_type": "code",
      "execution_count": null,
      "metadata": {
        "colab": {
          "base_uri": "https://localhost:8080/"
        },
        "id": "8mN6BWQ0hRB5",
        "outputId": "77ce65a9-f896-4bae-a788-7bb78d108afa"
      },
      "outputs": [
        {
          "output_type": "stream",
          "name": "stdout",
          "text": [
            "3529.4666091995464\n"
          ]
        }
      ],
      "source": [
        "V1 = np.sqrt(G * M_mars / (R + H)) #первая космическая скорость\n",
        "print(V1)"
      ]
    },
    {
      "cell_type": "markdown",
      "metadata": {
        "id": "OjzG2tFOhRB5"
      },
      "source": [
        "## Летим к станции"
      ]
    },
    {
      "cell_type": "markdown",
      "source": [
        "$$ h = (a_y - g) * t_1 ^2 /2 + (a_y - g) * t1 * (t - t_1) - g * (t - t_1) ^ 2 / 2   $$\n",
        "  - первое слагаемое - время, которое мы набираем скорость, мы это делаем некоторое время t1 - после этого двигаетли выключатся\n",
        "  - второе слагаемое - за время t1 корабль набрал скорость (ay - g) * t1 и летел c такой скоростью оставшееся время (t - t1)\n",
        "  - третье слагаемое - все время t - t1 на корабль будет действовать g\n",
        "  "
      ],
      "metadata": {
        "id": "4xhuUj16iVGj"
      }
    },
    {
      "cell_type": "markdown",
      "metadata": {
        "id": "kIhSLZJWhRB5"
      },
      "source": [
        "Будем искать ускорение ay - по оси y, которое необходимо чтобы достичь высоты H.\n",
        "Через ay получим ax.\n",
        "Воспользуемся бинарным поиском."
      ]
    },
    {
      "cell_type": "code",
      "execution_count": null,
      "metadata": {
        "colab": {
          "base_uri": "https://localhost:8080/"
        },
        "id": "hGYFpd9mhRB5",
        "outputId": "c7d54fab-3a32-483a-d52f-a7b2e56a58b3"
      },
      "outputs": [
        {
          "output_type": "stream",
          "name": "stdout",
          "text": [
            "Высота на которой оказались h  =  48341.81957038584\n",
            "Время работы двигателей t1 =  36.50956555004822\n",
            "Общее время полета t  =  180.93222551203343\n"
          ]
        }
      ],
      "source": [
        "ayleft = 0\n",
        "ayright = amax\n",
        "h = 0.0\n",
        "eps = 50 # точность\n",
        "while(abs(H - h) > eps):\n",
        "  ay = (ayleft + ayright) / 2\n",
        "  ax = np.sqrt(amax ** 2 - (ay + g) ** 2) # по теореме Пифагора - мы не должны превышать перегрузку\n",
        "  t = V1 / ax\n",
        "  t1 = g * t / ay\n",
        "\n",
        "  h = (ay - g) * t1 **2 /2 + (ay - g) * t1 * (t - t1) - g * (t - t1) ** 2 / 2\n",
        "  if (h >= H):\n",
        "    ayright = ay\n",
        "  else:\n",
        "    ayleft = ay\n",
        "\n",
        "\n",
        "ay = (ayleft + ayright) / 2\n",
        "ax =  np.sqrt(amax ** 2 - (ay + g) ** 2)\n",
        "t = V1 / ax #время полёта до орбиты\n",
        "t1 = g * t / ay #время, через которое выключаются двигатели\n",
        "h = (ay - g) * t1 ** 2 / 2 + (ay - g) * t1 * (t - t1) - g * (t - t1) ** 2 / 2 #высота, на которой мы окажемся\n",
        "\n",
        "print(\"Высота на которой оказались h  = \", h)\n",
        "print(\"Время работы двигателей t1 = \", t1)\n",
        "print(\"Общее время полета t  = \", t)"
      ]
    },
    {
      "cell_type": "markdown",
      "source": [
        "Рассчитаем, насколько мы улетели по Ox, затем найдём, сколко лететь до станции по орбите."
      ],
      "metadata": {
        "id": "pC_vrJFqjyxO"
      }
    },
    {
      "cell_type": "code",
      "execution_count": null,
      "metadata": {
        "colab": {
          "base_uri": "https://localhost:8080/"
        },
        "id": "TqvRVvbnhRB6",
        "outputId": "b7a4c1f8-8093-420e-dfa2-d899b16118e6"
      },
      "outputs": [
        {
          "output_type": "stream",
          "name": "stdout",
          "text": [
            "319297.1242364421\n",
            "6028.999485001311\n"
          ]
        }
      ],
      "source": [
        "Sx1 = ax * t ** 2 / 2 #смещение по x\n",
        "print(Sx1)\n",
        "\n",
        "import numpy as np\n",
        "toc = (Sx1 + Soc) / V1 #время долёта станции\n",
        "Lorbit = 2 * np.pi * (H + R) #длина орбиты станции\n",
        "toborot = Lorbit / V1 #время оборота станции вокруг Марса (считаем орбиту круглой)\n",
        "deltT = toborot - t + toc # время, на которое нужно отложить вылет\n",
        "print(deltT)"
      ]
    },
    {
      "cell_type": "code",
      "execution_count": null,
      "metadata": {
        "colab": {
          "base_uri": "https://localhost:8080/"
        },
        "id": "VVXrcrBBhRB6",
        "outputId": "72c4754f-9a12-48fe-f2c2-cf92ed01332b"
      },
      "outputs": [
        {
          "output_type": "stream",
          "name": "stdout",
          "text": [
            "Финальная координата по x до выключения двигателя 712.0098748092568 \n",
            " Финальная координата по y до выключения двигателя 534.2238378906259 \n",
            " Масса затраченного топлива 1625.332260108377\n",
            "Финальная координата по x 3528.837982273949 \n",
            " Финальная координата по y -0.05616210937970745 \n",
            " Масса затраченного топлива 1625.332260108377\n"
          ]
        }
      ],
      "source": [
        "import math\n",
        "\n",
        "# задаем начальные условия моделирования\n",
        "x_ship = [0]\n",
        "y_ship = [0]\n",
        "Mship = 6200\n",
        "M_fuel = 0  # Масса топлива для выхода на обриту\n",
        "dt = 0.1\n",
        "X = 0  # текущая координата ракеты по оси X\n",
        "Y = 0  # текущая координата ракеты по оси Y\n",
        "Vxx = 0  # текущая скорость ракеты по оси X\n",
        "Vyy = 0  # текущая скорость ракеты по оси Y\n",
        "\n",
        "\n",
        "a = math.atan(ay/ax)\n",
        "tt = deltT\n",
        "\n",
        "N = (int)(t1 / dt)  # - число итераций моделирования\n",
        "mu = 3660  # скорость истечения топлива\n",
        "\n",
        "\n",
        "# Сначала двигатель включен\n",
        "for i in range(N):\n",
        "  Y = Y + Vyy * dt + (ay - g) * dt ** 2 / 2\n",
        "  Vyy = Vyy + (ay - g) * dt\n",
        "  X = X + Vxx * dt + ax * dt ** 2 / 2\n",
        "  Vxx = Vxx + ax * dt\n",
        "  a = math.atan(ay / ax)\n",
        "  tt = tt + dt\n",
        "  x_ship.append(X)\n",
        "  y_ship.append(Y)\n",
        "  dm = (np.sqrt(ay ** 2 + ax ** 2) + g) * (Mship - M_fuel) * dt / mu  # уравнение Мещерского\n",
        "  M_fuel = M_fuel + dm\n",
        "\n",
        "print(\"Финальная координата по x до выключения двигателя\", Vxx, \"\\n\", \"Финальная координата по y до выключения двигателя\", Vyy, \"\\n\", \"Масса затраченного топлива\", M_fuel)\n",
        "\n",
        "\n",
        "# Выключаем двигатели\n",
        "N1 = (int)((t - t1) / dt)\n",
        "for i in range(N1):\n",
        "  Y = Y + Vyy * dt + (-g) * dt ** 2 /2\n",
        "  Vyy = Vyy + (-g) * dt\n",
        "  X = X + Vxx * dt + ax * dt ** 2 / 2\n",
        "  x_ship.append(X)\n",
        "  y_ship.append(Y)\n",
        "  Vxx = Vxx + ax * dt\n",
        "  a = math.atan(ay / ax)\n",
        "  tt = tt + dt\n",
        "\n",
        "print(\"Финальная координата по x\", Vxx, \"\\n\", \"Финальная координата по y\", Vyy, \"\\n\", \"Масса затраченного топлива\", M_fuel)\n"
      ]
    },
    {
      "cell_type": "markdown",
      "metadata": {
        "id": "XYu1HGs9hRB7"
      },
      "source": [
        "## Возвращемся домой - на Марс\n"
      ]
    },
    {
      "cell_type": "markdown",
      "metadata": {
        "id": "Uaf1CGEghRB7"
      },
      "source": [
        "Так как летим обратно, к Марсу, g теперь работает в нашу пользу - мы ее прибавляем"
      ]
    },
    {
      "cell_type": "code",
      "execution_count": null,
      "metadata": {
        "id": "QSRO5rfkhRB7"
      },
      "outputs": [],
      "source": [
        "ayleft = 0\n",
        "ayright = amax\n",
        "Hnew = h\n",
        "h = 0.0\n",
        "while(abs(Hnew - h)>50):\n",
        "  ay = (ayleft + ayright) / 2\n",
        "  ax = np.sqrt(amax ** 2 - (ay + g) ** 2)\n",
        "  t = V1 / ax\n",
        "  t1 = g * t / ay\n",
        "  h = g * (t - t1) ** 2/2 + g * t1 * (t - t1) - (ay - g) * t1 ** 2 / 2\n",
        "  if (h >= Hnew):\n",
        "    ayright = ay\n",
        "  else:\n",
        "    ayleft = ay"
      ]
    },
    {
      "cell_type": "code",
      "execution_count": null,
      "metadata": {
        "colab": {
          "base_uri": "https://localhost:8080/"
        },
        "id": "gABcAxEMhRB7",
        "outputId": "99270d52-aa44-4066-a079-79cedb248437"
      },
      "outputs": [
        {
          "output_type": "stream",
          "name": "stdout",
          "text": [
            "180.93222551203343\n",
            "36.50956555004822\n",
            "48341.819570385815\n"
          ]
        }
      ],
      "source": [
        "ay = ayleft\n",
        "ax = np.sqrt(amax ** 2 - (ay + g)**2)\n",
        "t = V1 / ax\n",
        "t1 = g * t / ay\n",
        "h = g * (t - t1)**2 /2 + g * t1 * (t - t1) - (ay-g) * t1 ** 2 / 2\n",
        "print(t)\n",
        "print(t1)\n",
        "print(h)"
      ]
    },
    {
      "cell_type": "code",
      "execution_count": null,
      "metadata": {
        "colab": {
          "base_uri": "https://localhost:8080/"
        },
        "id": "ebYjOkBJhRB8",
        "outputId": "48485fd0-fefa-437c-82df-76065a0f3bc5"
      },
      "outputs": [
        {
          "output_type": "stream",
          "name": "stdout",
          "text": [
            "319297.1242364422\n",
            "5938.533372245293\n"
          ]
        }
      ],
      "source": [
        "Sx = V1 * t - ax * t ** 2/2 #смещение по x при призимлении\n",
        "print(Sx)\n",
        "Lorbit = 2 * np.pi * (H + R) - Sx1 - Sx #расстояние которое нужно пролететь до начала торможения\n",
        "toborot = Lorbit / V1 #время оборота станции вокруг Марса (считаем орбиту круглой)\n",
        "print(toborot)\n",
        "tt = tt + toborot"
      ]
    },
    {
      "cell_type": "code",
      "execution_count": null,
      "metadata": {
        "id": "9SJ7qvNPhRB8"
      },
      "outputs": [],
      "source": [
        "Mship = 6000\n",
        "dt = 0.1\n",
        "X = - Sx\n",
        "Vxx = V1\n",
        "Vyy = 0\n",
        "Y = h\n",
        "a = math.atan(ay/ax)\n",
        "# начинаем движение с выключенными двигателями\n",
        "N1 = (int)((t - t1)/dt)\n",
        "for i in range(N1):\n",
        "  Y = Y - Vyy * dt + (-g) * dt ** 2 / 2\n",
        "  Vyy = Vyy + (g) * dt\n",
        "  X = X + Vxx * dt - ax * dt ** 2 / 2\n",
        "  Vxx = Vxx - ax * dt\n",
        "  a = math.atan(ay/ax)\n",
        "  tt = tt + dt\n",
        "  x_ship.append(X)\n",
        "  y_ship.append(Y)\n",
        "\n",
        "\n",
        "N = (int)(t1/dt)\n",
        "# включаем двигатели\n",
        "for i in range(N):\n",
        "  Y = Y - Vyy * dt + (ay - g) * dt ** 2 / 2\n",
        "  Vyy = Vyy - (ay - g) * dt\n",
        "  X = X + Vxx * dt - ax * dt ** 2 / 2\n",
        "  Vxx = Vxx - ax * dt\n",
        "  a = math.atan(ay/ax)\n",
        "  tt = tt + dt\n",
        "  M_fuel = M_fuel + (np.sqrt(ay ** 2 + ax ** 2) + g) * (Mship - M_fuel) * dt / mu\n",
        "  x_ship.append(X)\n",
        "  y_ship.append(Y)"
      ]
    },
    {
      "cell_type": "code",
      "execution_count": null,
      "metadata": {
        "id": "LPX8rbmqhRB8"
      },
      "outputs": [],
      "source": [
        "import numpy as np\n",
        "import matplotlib.pyplot as plt\n",
        "from matplotlib.animation import FuncAnimation\n",
        "from IPython.display import HTML"
      ]
    },
    {
      "cell_type": "markdown",
      "metadata": {
        "id": "o_cn_U8uhRB8"
      },
      "source": [
        "### Визуализация"
      ]
    },
    {
      "cell_type": "code",
      "execution_count": null,
      "metadata": {
        "colab": {
          "base_uri": "https://localhost:8080/",
          "height": 430
        },
        "id": "ONWMBy5xhRB8",
        "outputId": "2273202d-6405-448a-a5e0-18ed0c8949c2"
      },
      "outputs": [
        {
          "output_type": "display_data",
          "data": {
            "text/plain": [
              "<Figure size 640x480 with 1 Axes>"
            ],
            "image/png": "[encoded data removed]"
          },
          "metadata": {}
        }
      ],
      "source": [
        "fig = plt.figure()\n",
        "ax = plt.axes(xlim=(-210000, 210000), ylim=(-1000, H + 10000))\n",
        "ax.grid()\n",
        "circle1 = plt.Circle((0, -R), R, color = 'r', fill = True)\n",
        "ax = plt.gca()\n",
        "ax.add_patch(circle1)\n",
        "circle1 = plt.Circle((0, -R), R + H, color = 'g', fill = False)\n",
        "ax.add_patch(circle1)\n",
        "plt.show()"
      ]
    },
    {
      "cell_type": "code",
      "execution_count": null,
      "metadata": {
        "colab": {
          "base_uri": "https://localhost:8080/",
          "height": 465
        },
        "id": "_Kzu5sVNhRB9",
        "outputId": "d63eca03-2f71-4be1-e1bc-b45de8cdab7b"
      },
      "outputs": [
        {
          "output_type": "stream",
          "name": "stderr",
          "text": [
            "<ipython-input-13-d4f7fda8cd03>:14: MatplotlibDeprecationWarning: Setting data with a non sequence type is deprecated since 3.7 and will be remove two minor releases later\n",
            "  point.set_data(np.array([x_ship[i], y_ship[i]]))\n"
          ]
        },
        {
          "output_type": "display_data",
          "data": {
            "text/plain": [
              "<Figure size 640x480 with 1 Axes>"
            ],
            "image/png": "[encoded data removed]"
          },
          "metadata": {}
        }
      ],
      "source": [
        "\n",
        "fig = plt.figure()\n",
        "ax = plt.axes(xlim = (-210000, 210000), ylim = (-1000, H + 10000))\n",
        "ax.grid()\n",
        "circle1 = plt.Circle((0, -R), R, color='r', fill = True)\n",
        "ax = plt.gca()\n",
        "ax.add_patch(circle1)\n",
        "circle1 = plt.Circle((0, -R), R + H, color = 'g', fill = False)\n",
        "ax.add_patch(circle1)\n",
        "point, = ax.plot([x_ship[0]], [y_ship[0]], 'o')\n",
        "def init():\n",
        "    point.set_data([], [])\n",
        "    return point,\n",
        "def animate(i):\n",
        "    point.set_data(np.array([x_ship[i], y_ship[i]]))\n",
        "    return point,\n",
        "anim = FuncAnimation(fig, animate, init_func=init,frames=len(x_ship), interval=20, blit=True)\n",
        "anim.save(\"ship.mp4\")"
      ]
    }
  ],
  "metadata": {
    "kernelspec": {
      "display_name": "Python 3",
      "language": "python",
      "name": "python3"
    },
    "language_info": {
      "codemirror_mode": {
        "name": "ipython",
        "version": 3
      },
      "file_extension": ".py",
      "mimetype": "text/x-python",
      "name": "python",
      "nbconvert_exporter": "python",
      "pygments_lexer": "ipython3",
      "version": "3.9.13"
    },
    "vscode": {
      "interpreter": {
        "hash": "4b6030c4fbd1385827af359d402ac2ead6f5ee917892a5682b765bb7053a4308"
      }
    },
    "colab": {
      "provenance": [],
      "include_colab_link": true
    }
  },
  "nbformat": 4,
  "nbformat_minor": 0
}